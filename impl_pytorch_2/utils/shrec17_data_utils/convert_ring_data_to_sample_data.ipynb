{
 "cells": [
  {
   "cell_type": "code",
   "execution_count": 2,
   "metadata": {},
   "outputs": [],
   "source": [
    "import numpy as np"
   ]
  },
  {
   "cell_type": "code",
   "execution_count": 12,
   "metadata": {},
   "outputs": [],
   "source": [
    "data_x_path ='../../../data/shrec17/resnet50/x_val.npy'\n",
    "data_y_path ='../../../data/shrec17/resnet50/y_val.npy'\n",
    "x = np.load(data_x_path)\n",
    "y = np.load(data_y_path)\n",
    "x_reshaped = x.reshape(-1, 26, 2048)\n",
    "y_reshaped = y[np.arange(0,y.shape[0],26)]"
   ]
  },
  {
   "cell_type": "code",
   "execution_count": 13,
   "metadata": {},
   "outputs": [],
   "source": [
    "np.save('../../../data/shrec17/resnet50/x_val_sample.npy',x_reshaped)"
   ]
  },
  {
   "cell_type": "code",
   "execution_count": 14,
   "metadata": {},
   "outputs": [],
   "source": [
    "np.save('../../../data/shrec17/resnet50/y_val_sample.npy',y_reshaped)"
   ]
  },
  {
   "cell_type": "markdown",
   "metadata": {},
   "source": [
    "### merge test &val"
   ]
  },
  {
   "cell_type": "code",
   "execution_count": 20,
   "metadata": {},
   "outputs": [],
   "source": [
    "x_train = np.load('../../../data/shrec17/resnet50/x_train_sample.npy')\n",
    "x_val = np.load('../../../data/shrec17/resnet50/x_val_sample.npy')\n",
    "y_train = np.load('../../../data/shrec17/resnet50/y_train_sample.npy')\n",
    "y_val = np.load('../../../data/shrec17/resnet50/y_val_sample.npy')"
   ]
  },
  {
   "cell_type": "code",
   "execution_count": 21,
   "metadata": {},
   "outputs": [
    {
     "data": {
      "text/plain": [
       "(830, 26, 2048)"
      ]
     },
     "execution_count": 21,
     "metadata": {},
     "output_type": "execute_result"
    }
   ],
   "source": [
    "x_train.shape"
   ]
  },
  {
   "cell_type": "code",
   "execution_count": 22,
   "metadata": {},
   "outputs": [
    {
     "data": {
      "text/plain": [
       "(410, 26, 2048)"
      ]
     },
     "execution_count": 22,
     "metadata": {},
     "output_type": "execute_result"
    }
   ],
   "source": [
    "x_val.shape"
   ]
  },
  {
   "cell_type": "code",
   "execution_count": 27,
   "metadata": {},
   "outputs": [],
   "source": [
    "x_merged = np.concatenate((x_train,x_val),axis=0)\n",
    "y_merged = np.concatenate((y_train,y_val),axis=0)"
   ]
  },
  {
   "cell_type": "code",
   "execution_count": 28,
   "metadata": {},
   "outputs": [
    {
     "name": "stdout",
     "output_type": "stream",
     "text": [
      "(1240, 26, 2048)\n",
      "(1240, 1)\n"
     ]
    }
   ],
   "source": [
    "print x_merged.shape\n",
    "print y_merged.shape\n"
   ]
  },
  {
   "cell_type": "code",
   "execution_count": 29,
   "metadata": {},
   "outputs": [],
   "source": [
    "np.save('../../../data/shrec17/resnet50/x_trainval_sample.npy',x_merged)\n",
    "np.save('../../../data/shrec17/resnet50/y_trainval_sample.npy',y_merged)"
   ]
  },
  {
   "cell_type": "code",
   "execution_count": null,
   "metadata": {},
   "outputs": [],
   "source": []
  }
 ],
 "metadata": {
  "kernelspec": {
   "display_name": "Python 2",
   "language": "python",
   "name": "python2"
  },
  "language_info": {
   "codemirror_mode": {
    "name": "ipython",
    "version": 2
   },
   "file_extension": ".py",
   "mimetype": "text/x-python",
   "name": "python",
   "nbconvert_exporter": "python",
   "pygments_lexer": "ipython2",
   "version": "2.7.12"
  }
 },
 "nbformat": 4,
 "nbformat_minor": 2
}
