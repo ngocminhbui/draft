{
 "cells": [
  {
   "cell_type": "code",
   "execution_count": 140,
   "metadata": {},
   "outputs": [],
   "source": [
    "import tensorflow as tf"
   ]
  },
  {
   "cell_type": "code",
   "execution_count": 141,
   "metadata": {},
   "outputs": [],
   "source": [
    "sess = tf.InteractiveSession()"
   ]
  },
  {
   "cell_type": "code",
   "execution_count": 142,
   "metadata": {},
   "outputs": [],
   "source": [
    "import numpy as np"
   ]
  },
  {
   "cell_type": "code",
   "execution_count": 370,
   "metadata": {},
   "outputs": [],
   "source": [
    "a = np.arange(0, 6 * 8 * 10)\n",
    "a = a.reshape(-1,8,10)\n",
    "b = np.array([0,1,2,0,1,2])"
   ]
  },
  {
   "cell_type": "code",
   "execution_count": 401,
   "metadata": {},
   "outputs": [
    {
     "data": {
      "text/plain": [
       "array([[[  0,   1,   2,   3,   4,   5,   6,   7,   8,   9],\n",
       "        [ 10,  11,  12,  13,  14,  15,  16,  17,  18,  19],\n",
       "        [ 20,  21,  22,  23,  24,  25,  26,  27,  28,  29],\n",
       "        [ 30,  31,  32,  33,  34,  35,  36,  37,  38,  39],\n",
       "        [ 40,  41,  42,  43,  44,  45,  46,  47,  48,  49],\n",
       "        [ 50,  51,  52,  53,  54,  55,  56,  57,  58,  59],\n",
       "        [ 60,  61,  62,  63,  64,  65,  66,  67,  68,  69],\n",
       "        [ 70,  71,  72,  73,  74,  75,  76,  77,  78,  79]],\n",
       "\n",
       "       [[ 80,  81,  82,  83,  84,  85,  86,  87,  88,  89],\n",
       "        [ 90,  91,  92,  93,  94,  95,  96,  97,  98,  99],\n",
       "        [100, 101, 102, 103, 104, 105, 106, 107, 108, 109],\n",
       "        [110, 111, 112, 113, 114, 115, 116, 117, 118, 119],\n",
       "        [120, 121, 122, 123, 124, 125, 126, 127, 128, 129],\n",
       "        [130, 131, 132, 133, 134, 135, 136, 137, 138, 139],\n",
       "        [140, 141, 142, 143, 144, 145, 146, 147, 148, 149],\n",
       "        [150, 151, 152, 153, 154, 155, 156, 157, 158, 159]],\n",
       "\n",
       "       [[160, 161, 162, 163, 164, 165, 166, 167, 168, 169],\n",
       "        [170, 171, 172, 173, 174, 175, 176, 177, 178, 179],\n",
       "        [180, 181, 182, 183, 184, 185, 186, 187, 188, 189],\n",
       "        [190, 191, 192, 193, 194, 195, 196, 197, 198, 199],\n",
       "        [200, 201, 202, 203, 204, 205, 206, 207, 208, 209],\n",
       "        [210, 211, 212, 213, 214, 215, 216, 217, 218, 219],\n",
       "        [220, 221, 222, 223, 224, 225, 226, 227, 228, 229],\n",
       "        [230, 231, 232, 233, 234, 235, 236, 237, 238, 239]],\n",
       "\n",
       "       [[240, 241, 242, 243, 244, 245, 246, 247, 248, 249],\n",
       "        [250, 251, 252, 253, 254, 255, 256, 257, 258, 259],\n",
       "        [260, 261, 262, 263, 264, 265, 266, 267, 268, 269],\n",
       "        [270, 271, 272, 273, 274, 275, 276, 277, 278, 279],\n",
       "        [280, 281, 282, 283, 284, 285, 286, 287, 288, 289],\n",
       "        [290, 291, 292, 293, 294, 295, 296, 297, 298, 299],\n",
       "        [300, 301, 302, 303, 304, 305, 306, 307, 308, 309],\n",
       "        [310, 311, 312, 313, 314, 315, 316, 317, 318, 319]],\n",
       "\n",
       "       [[320, 321, 322, 323, 324, 325, 326, 327, 328, 329],\n",
       "        [330, 331, 332, 333, 334, 335, 336, 337, 338, 339],\n",
       "        [340, 341, 342, 343, 344, 345, 346, 347, 348, 349],\n",
       "        [350, 351, 352, 353, 354, 355, 356, 357, 358, 359],\n",
       "        [360, 361, 362, 363, 364, 365, 366, 367, 368, 369],\n",
       "        [370, 371, 372, 373, 374, 375, 376, 377, 378, 379],\n",
       "        [380, 381, 382, 383, 384, 385, 386, 387, 388, 389],\n",
       "        [390, 391, 392, 393, 394, 395, 396, 397, 398, 399]],\n",
       "\n",
       "       [[400, 401, 402, 403, 404, 405, 406, 407, 408, 409],\n",
       "        [410, 411, 412, 413, 414, 415, 416, 417, 418, 419],\n",
       "        [420, 421, 422, 423, 424, 425, 426, 427, 428, 429],\n",
       "        [430, 431, 432, 433, 434, 435, 436, 437, 438, 439],\n",
       "        [440, 441, 442, 443, 444, 445, 446, 447, 448, 449],\n",
       "        [450, 451, 452, 453, 454, 455, 456, 457, 458, 459],\n",
       "        [460, 461, 462, 463, 464, 465, 466, 467, 468, 469],\n",
       "        [470, 471, 472, 473, 474, 475, 476, 477, 478, 479]]])"
      ]
     },
     "execution_count": 401,
     "metadata": {},
     "output_type": "execute_result"
    }
   ],
   "source": [
    "a"
   ]
  },
  {
   "cell_type": "code",
   "execution_count": 411,
   "metadata": {},
   "outputs": [],
   "source": [
    "k = np.random.randint(0,8)\n"
   ]
  },
  {
   "cell_type": "code",
   "execution_count": 412,
   "metadata": {},
   "outputs": [
    {
     "data": {
      "text/plain": [
       "array([[[ 70,  71,  72,  73,  74,  75,  76,  77,  78,  79],\n",
       "        [  0,   1,   2,   3,   4,   5,   6,   7,   8,   9],\n",
       "        [ 10,  11,  12,  13,  14,  15,  16,  17,  18,  19],\n",
       "        [ 20,  21,  22,  23,  24,  25,  26,  27,  28,  29],\n",
       "        [ 30,  31,  32,  33,  34,  35,  36,  37,  38,  39],\n",
       "        [ 40,  41,  42,  43,  44,  45,  46,  47,  48,  49],\n",
       "        [ 50,  51,  52,  53,  54,  55,  56,  57,  58,  59],\n",
       "        [ 60,  61,  62,  63,  64,  65,  66,  67,  68,  69]],\n",
       "\n",
       "       [[150, 151, 152, 153, 154, 155, 156, 157, 158, 159],\n",
       "        [ 80,  81,  82,  83,  84,  85,  86,  87,  88,  89],\n",
       "        [ 90,  91,  92,  93,  94,  95,  96,  97,  98,  99],\n",
       "        [100, 101, 102, 103, 104, 105, 106, 107, 108, 109],\n",
       "        [110, 111, 112, 113, 114, 115, 116, 117, 118, 119],\n",
       "        [120, 121, 122, 123, 124, 125, 126, 127, 128, 129],\n",
       "        [130, 131, 132, 133, 134, 135, 136, 137, 138, 139],\n",
       "        [140, 141, 142, 143, 144, 145, 146, 147, 148, 149]],\n",
       "\n",
       "       [[230, 231, 232, 233, 234, 235, 236, 237, 238, 239],\n",
       "        [160, 161, 162, 163, 164, 165, 166, 167, 168, 169],\n",
       "        [170, 171, 172, 173, 174, 175, 176, 177, 178, 179],\n",
       "        [180, 181, 182, 183, 184, 185, 186, 187, 188, 189],\n",
       "        [190, 191, 192, 193, 194, 195, 196, 197, 198, 199],\n",
       "        [200, 201, 202, 203, 204, 205, 206, 207, 208, 209],\n",
       "        [210, 211, 212, 213, 214, 215, 216, 217, 218, 219],\n",
       "        [220, 221, 222, 223, 224, 225, 226, 227, 228, 229]],\n",
       "\n",
       "       [[310, 311, 312, 313, 314, 315, 316, 317, 318, 319],\n",
       "        [240, 241, 242, 243, 244, 245, 246, 247, 248, 249],\n",
       "        [250, 251, 252, 253, 254, 255, 256, 257, 258, 259],\n",
       "        [260, 261, 262, 263, 264, 265, 266, 267, 268, 269],\n",
       "        [270, 271, 272, 273, 274, 275, 276, 277, 278, 279],\n",
       "        [280, 281, 282, 283, 284, 285, 286, 287, 288, 289],\n",
       "        [290, 291, 292, 293, 294, 295, 296, 297, 298, 299],\n",
       "        [300, 301, 302, 303, 304, 305, 306, 307, 308, 309]],\n",
       "\n",
       "       [[390, 391, 392, 393, 394, 395, 396, 397, 398, 399],\n",
       "        [320, 321, 322, 323, 324, 325, 326, 327, 328, 329],\n",
       "        [330, 331, 332, 333, 334, 335, 336, 337, 338, 339],\n",
       "        [340, 341, 342, 343, 344, 345, 346, 347, 348, 349],\n",
       "        [350, 351, 352, 353, 354, 355, 356, 357, 358, 359],\n",
       "        [360, 361, 362, 363, 364, 365, 366, 367, 368, 369],\n",
       "        [370, 371, 372, 373, 374, 375, 376, 377, 378, 379],\n",
       "        [380, 381, 382, 383, 384, 385, 386, 387, 388, 389]],\n",
       "\n",
       "       [[470, 471, 472, 473, 474, 475, 476, 477, 478, 479],\n",
       "        [400, 401, 402, 403, 404, 405, 406, 407, 408, 409],\n",
       "        [410, 411, 412, 413, 414, 415, 416, 417, 418, 419],\n",
       "        [420, 421, 422, 423, 424, 425, 426, 427, 428, 429],\n",
       "        [430, 431, 432, 433, 434, 435, 436, 437, 438, 439],\n",
       "        [440, 441, 442, 443, 444, 445, 446, 447, 448, 449],\n",
       "        [450, 451, 452, 453, 454, 455, 456, 457, 458, 459],\n",
       "        [460, 461, 462, 463, 464, 465, 466, 467, 468, 469]]])"
      ]
     },
     "execution_count": 412,
     "metadata": {},
     "output_type": "execute_result"
    }
   ],
   "source": [
    "np.roll(a=a, axis=1,shift= k)"
   ]
  },
  {
   "cell_type": "code",
   "execution_count": 372,
   "metadata": {},
   "outputs": [],
   "source": [
    "def mapper(x,y):\n",
    "    k = tf.random_uniform([], minval=0,maxval=7,dtype=tf.int32)\n",
    "    x = tf.manip.roll(x,axis=1,shift=k)\n",
    "    return x, y"
   ]
  },
  {
   "cell_type": "code",
   "execution_count": 388,
   "metadata": {},
   "outputs": [],
   "source": [
    "dt = tf.data.Dataset.from_tensor_slices((a,b)).batch(1)\n",
    "dt = dt.map(map_func=mapper, num_parallel_calls=2)"
   ]
  },
  {
   "cell_type": "code",
   "execution_count": 394,
   "metadata": {},
   "outputs": [
    {
     "name": "stdout",
     "output_type": "stream",
     "text": [
      "[[[60 61 62 63 64 65 66 67 68 69]\n",
      "  [70 71 72 73 74 75 76 77 78 79]\n",
      "  [ 0  1  2  3  4  5  6  7  8  9]\n",
      "  [10 11 12 13 14 15 16 17 18 19]\n",
      "  [20 21 22 23 24 25 26 27 28 29]\n",
      "  [30 31 32 33 34 35 36 37 38 39]\n",
      "  [40 41 42 43 44 45 46 47 48 49]\n",
      "  [50 51 52 53 54 55 56 57 58 59]]]\n",
      "[[[100 101 102 103 104 105 106 107 108 109]\n",
      "  [110 111 112 113 114 115 116 117 118 119]\n",
      "  [120 121 122 123 124 125 126 127 128 129]\n",
      "  [130 131 132 133 134 135 136 137 138 139]\n",
      "  [140 141 142 143 144 145 146 147 148 149]\n",
      "  [150 151 152 153 154 155 156 157 158 159]\n",
      "  [ 80  81  82  83  84  85  86  87  88  89]\n",
      "  [ 90  91  92  93  94  95  96  97  98  99]]]\n",
      "[[[220 221 222 223 224 225 226 227 228 229]\n",
      "  [230 231 232 233 234 235 236 237 238 239]\n",
      "  [160 161 162 163 164 165 166 167 168 169]\n",
      "  [170 171 172 173 174 175 176 177 178 179]\n",
      "  [180 181 182 183 184 185 186 187 188 189]\n",
      "  [190 191 192 193 194 195 196 197 198 199]\n",
      "  [200 201 202 203 204 205 206 207 208 209]\n",
      "  [210 211 212 213 214 215 216 217 218 219]]]\n",
      "[[[240 241 242 243 244 245 246 247 248 249]\n",
      "  [250 251 252 253 254 255 256 257 258 259]\n",
      "  [260 261 262 263 264 265 266 267 268 269]\n",
      "  [270 271 272 273 274 275 276 277 278 279]\n",
      "  [280 281 282 283 284 285 286 287 288 289]\n",
      "  [290 291 292 293 294 295 296 297 298 299]\n",
      "  [300 301 302 303 304 305 306 307 308 309]\n",
      "  [310 311 312 313 314 315 316 317 318 319]]]\n",
      "[[[320 321 322 323 324 325 326 327 328 329]\n",
      "  [330 331 332 333 334 335 336 337 338 339]\n",
      "  [340 341 342 343 344 345 346 347 348 349]\n",
      "  [350 351 352 353 354 355 356 357 358 359]\n",
      "  [360 361 362 363 364 365 366 367 368 369]\n",
      "  [370 371 372 373 374 375 376 377 378 379]\n",
      "  [380 381 382 383 384 385 386 387 388 389]\n",
      "  [390 391 392 393 394 395 396 397 398 399]]]\n",
      "[[[450 451 452 453 454 455 456 457 458 459]\n",
      "  [460 461 462 463 464 465 466 467 468 469]\n",
      "  [470 471 472 473 474 475 476 477 478 479]\n",
      "  [400 401 402 403 404 405 406 407 408 409]\n",
      "  [410 411 412 413 414 415 416 417 418 419]\n",
      "  [420 421 422 423 424 425 426 427 428 429]\n",
      "  [430 431 432 433 434 435 436 437 438 439]\n",
      "  [440 441 442 443 444 445 446 447 448 449]]]\n"
     ]
    },
    {
     "ename": "OutOfRangeError",
     "evalue": "End of sequence\n\t [[Node: IteratorGetNext_338 = IteratorGetNext[output_shapes=[[?,8,10], [?]], output_types=[DT_INT64, DT_INT64], _device=\"/job:localhost/replica:0/task:0/device:CPU:0\"](OneShotIterator_148)]]\n\nCaused by op u'IteratorGetNext_338', defined at:\n  File \"/usr/lib64/python2.7/runpy.py\", line 174, in _run_module_as_main\n    \"__main__\", fname, loader, pkg_name)\n  File \"/usr/lib64/python2.7/runpy.py\", line 72, in _run_code\n    exec code in run_globals\n  File \"/home/minhb/venv/python2/lib/python2.7/site-packages/ipykernel_launcher.py\", line 16, in <module>\n    app.launch_new_instance()\n  File \"/home/minhb/venv/python2/lib/python2.7/site-packages/traitlets/config/application.py\", line 658, in launch_instance\n    app.start()\n  File \"/home/minhb/venv/python2/lib/python2.7/site-packages/ipykernel/kernelapp.py\", line 486, in start\n    self.io_loop.start()\n  File \"/home/minhb/venv/python2/lib/python2.7/site-packages/tornado/ioloop.py\", line 888, in start\n    handler_func(fd_obj, events)\n  File \"/home/minhb/venv/python2/lib/python2.7/site-packages/tornado/stack_context.py\", line 277, in null_wrapper\n    return fn(*args, **kwargs)\n  File \"/home/minhb/venv/python2/lib/python2.7/site-packages/zmq/eventloop/zmqstream.py\", line 450, in _handle_events\n    self._handle_recv()\n  File \"/home/minhb/venv/python2/lib/python2.7/site-packages/zmq/eventloop/zmqstream.py\", line 480, in _handle_recv\n    self._run_callback(callback, msg)\n  File \"/home/minhb/venv/python2/lib/python2.7/site-packages/zmq/eventloop/zmqstream.py\", line 432, in _run_callback\n    callback(*args, **kwargs)\n  File \"/home/minhb/venv/python2/lib/python2.7/site-packages/tornado/stack_context.py\", line 277, in null_wrapper\n    return fn(*args, **kwargs)\n  File \"/home/minhb/venv/python2/lib/python2.7/site-packages/ipykernel/kernelbase.py\", line 283, in dispatcher\n    return self.dispatch_shell(stream, msg)\n  File \"/home/minhb/venv/python2/lib/python2.7/site-packages/ipykernel/kernelbase.py\", line 233, in dispatch_shell\n    handler(stream, idents, msg)\n  File \"/home/minhb/venv/python2/lib/python2.7/site-packages/ipykernel/kernelbase.py\", line 399, in execute_request\n    user_expressions, allow_stdin)\n  File \"/home/minhb/venv/python2/lib/python2.7/site-packages/ipykernel/ipkernel.py\", line 208, in do_execute\n    res = shell.run_cell(code, store_history=store_history, silent=silent)\n  File \"/home/minhb/venv/python2/lib/python2.7/site-packages/ipykernel/zmqshell.py\", line 537, in run_cell\n    return super(ZMQInteractiveShell, self).run_cell(*args, **kwargs)\n  File \"/home/minhb/venv/python2/lib/python2.7/site-packages/IPython/core/interactiveshell.py\", line 2714, in run_cell\n    interactivity=interactivity, compiler=compiler, result=result)\n  File \"/home/minhb/venv/python2/lib/python2.7/site-packages/IPython/core/interactiveshell.py\", line 2818, in run_ast_nodes\n    if self.run_code(code, result):\n  File \"/home/minhb/venv/python2/lib/python2.7/site-packages/IPython/core/interactiveshell.py\", line 2878, in run_code\n    exec(code_obj, self.user_global_ns, self.user_ns)\n  File \"<ipython-input-394-ce8532e7612d>\", line 4, in <module>\n    p, q = sess.run(it.get_next())\n  File \"/home/minhb/venv/python2/lib/python2.7/site-packages/tensorflow/python/data/ops/iterator_ops.py\", line 370, in get_next\n    name=name)), self._output_types,\n  File \"/home/minhb/venv/python2/lib/python2.7/site-packages/tensorflow/python/ops/gen_dataset_ops.py\", line 1466, in iterator_get_next\n    output_shapes=output_shapes, name=name)\n  File \"/home/minhb/venv/python2/lib/python2.7/site-packages/tensorflow/python/framework/op_def_library.py\", line 787, in _apply_op_helper\n    op_def=op_def)\n  File \"/home/minhb/venv/python2/lib/python2.7/site-packages/tensorflow/python/framework/ops.py\", line 3392, in create_op\n    op_def=op_def)\n  File \"/home/minhb/venv/python2/lib/python2.7/site-packages/tensorflow/python/framework/ops.py\", line 1718, in __init__\n    self._traceback = self._graph._extract_stack()  # pylint: disable=protected-access\n\nOutOfRangeError (see above for traceback): End of sequence\n\t [[Node: IteratorGetNext_338 = IteratorGetNext[output_shapes=[[?,8,10], [?]], output_types=[DT_INT64, DT_INT64], _device=\"/job:localhost/replica:0/task:0/device:CPU:0\"](OneShotIterator_148)]]\n",
     "output_type": "error",
     "traceback": [
      "\u001b[0;31m---------------------------------------------------------------------------\u001b[0m",
      "\u001b[0;31mOutOfRangeError\u001b[0m                           Traceback (most recent call last)",
      "\u001b[0;32m<ipython-input-394-ce8532e7612d>\u001b[0m in \u001b[0;36m<module>\u001b[0;34m()\u001b[0m\n\u001b[1;32m      2\u001b[0m \u001b[0;34m\u001b[0m\u001b[0m\n\u001b[1;32m      3\u001b[0m \u001b[0;32mfor\u001b[0m \u001b[0mi\u001b[0m \u001b[0;32min\u001b[0m \u001b[0mrange\u001b[0m\u001b[0;34m(\u001b[0m\u001b[0;36m11\u001b[0m\u001b[0;34m)\u001b[0m\u001b[0;34m:\u001b[0m\u001b[0;34m\u001b[0m\u001b[0m\n\u001b[0;32m----> 4\u001b[0;31m     \u001b[0mp\u001b[0m\u001b[0;34m,\u001b[0m \u001b[0mq\u001b[0m \u001b[0;34m=\u001b[0m \u001b[0msess\u001b[0m\u001b[0;34m.\u001b[0m\u001b[0mrun\u001b[0m\u001b[0;34m(\u001b[0m\u001b[0mit\u001b[0m\u001b[0;34m.\u001b[0m\u001b[0mget_next\u001b[0m\u001b[0;34m(\u001b[0m\u001b[0;34m)\u001b[0m\u001b[0;34m)\u001b[0m\u001b[0;34m\u001b[0m\u001b[0m\n\u001b[0m\u001b[1;32m      5\u001b[0m     \u001b[0;32mprint\u001b[0m \u001b[0mp\u001b[0m\u001b[0;34m\u001b[0m\u001b[0m\n",
      "\u001b[0;32m/home/minhb/venv/python2/lib/python2.7/site-packages/tensorflow/python/client/session.pyc\u001b[0m in \u001b[0;36mrun\u001b[0;34m(self, fetches, feed_dict, options, run_metadata)\u001b[0m\n\u001b[1;32m    898\u001b[0m     \u001b[0;32mtry\u001b[0m\u001b[0;34m:\u001b[0m\u001b[0;34m\u001b[0m\u001b[0m\n\u001b[1;32m    899\u001b[0m       result = self._run(None, fetches, feed_dict, options_ptr,\n\u001b[0;32m--> 900\u001b[0;31m                          run_metadata_ptr)\n\u001b[0m\u001b[1;32m    901\u001b[0m       \u001b[0;32mif\u001b[0m \u001b[0mrun_metadata\u001b[0m\u001b[0;34m:\u001b[0m\u001b[0;34m\u001b[0m\u001b[0m\n\u001b[1;32m    902\u001b[0m         \u001b[0mproto_data\u001b[0m \u001b[0;34m=\u001b[0m \u001b[0mtf_session\u001b[0m\u001b[0;34m.\u001b[0m\u001b[0mTF_GetBuffer\u001b[0m\u001b[0;34m(\u001b[0m\u001b[0mrun_metadata_ptr\u001b[0m\u001b[0;34m)\u001b[0m\u001b[0;34m\u001b[0m\u001b[0m\n",
      "\u001b[0;32m/home/minhb/venv/python2/lib/python2.7/site-packages/tensorflow/python/client/session.pyc\u001b[0m in \u001b[0;36m_run\u001b[0;34m(self, handle, fetches, feed_dict, options, run_metadata)\u001b[0m\n\u001b[1;32m   1133\u001b[0m     \u001b[0;32mif\u001b[0m \u001b[0mfinal_fetches\u001b[0m \u001b[0;32mor\u001b[0m \u001b[0mfinal_targets\u001b[0m \u001b[0;32mor\u001b[0m \u001b[0;34m(\u001b[0m\u001b[0mhandle\u001b[0m \u001b[0;32mand\u001b[0m \u001b[0mfeed_dict_tensor\u001b[0m\u001b[0;34m)\u001b[0m\u001b[0;34m:\u001b[0m\u001b[0;34m\u001b[0m\u001b[0m\n\u001b[1;32m   1134\u001b[0m       results = self._do_run(handle, final_targets, final_fetches,\n\u001b[0;32m-> 1135\u001b[0;31m                              feed_dict_tensor, options, run_metadata)\n\u001b[0m\u001b[1;32m   1136\u001b[0m     \u001b[0;32melse\u001b[0m\u001b[0;34m:\u001b[0m\u001b[0;34m\u001b[0m\u001b[0m\n\u001b[1;32m   1137\u001b[0m       \u001b[0mresults\u001b[0m \u001b[0;34m=\u001b[0m \u001b[0;34m[\u001b[0m\u001b[0;34m]\u001b[0m\u001b[0;34m\u001b[0m\u001b[0m\n",
      "\u001b[0;32m/home/minhb/venv/python2/lib/python2.7/site-packages/tensorflow/python/client/session.pyc\u001b[0m in \u001b[0;36m_do_run\u001b[0;34m(self, handle, target_list, fetch_list, feed_dict, options, run_metadata)\u001b[0m\n\u001b[1;32m   1314\u001b[0m     \u001b[0;32mif\u001b[0m \u001b[0mhandle\u001b[0m \u001b[0;32mis\u001b[0m \u001b[0mNone\u001b[0m\u001b[0;34m:\u001b[0m\u001b[0;34m\u001b[0m\u001b[0m\n\u001b[1;32m   1315\u001b[0m       return self._do_call(_run_fn, feeds, fetches, targets, options,\n\u001b[0;32m-> 1316\u001b[0;31m                            run_metadata)\n\u001b[0m\u001b[1;32m   1317\u001b[0m     \u001b[0;32melse\u001b[0m\u001b[0;34m:\u001b[0m\u001b[0;34m\u001b[0m\u001b[0m\n\u001b[1;32m   1318\u001b[0m       \u001b[0;32mreturn\u001b[0m \u001b[0mself\u001b[0m\u001b[0;34m.\u001b[0m\u001b[0m_do_call\u001b[0m\u001b[0;34m(\u001b[0m\u001b[0m_prun_fn\u001b[0m\u001b[0;34m,\u001b[0m \u001b[0mhandle\u001b[0m\u001b[0;34m,\u001b[0m \u001b[0mfeeds\u001b[0m\u001b[0;34m,\u001b[0m \u001b[0mfetches\u001b[0m\u001b[0;34m)\u001b[0m\u001b[0;34m\u001b[0m\u001b[0m\n",
      "\u001b[0;32m/home/minhb/venv/python2/lib/python2.7/site-packages/tensorflow/python/client/session.pyc\u001b[0m in \u001b[0;36m_do_call\u001b[0;34m(self, fn, *args)\u001b[0m\n\u001b[1;32m   1333\u001b[0m         \u001b[0;32mexcept\u001b[0m \u001b[0mKeyError\u001b[0m\u001b[0;34m:\u001b[0m\u001b[0;34m\u001b[0m\u001b[0m\n\u001b[1;32m   1334\u001b[0m           \u001b[0;32mpass\u001b[0m\u001b[0;34m\u001b[0m\u001b[0m\n\u001b[0;32m-> 1335\u001b[0;31m       \u001b[0;32mraise\u001b[0m \u001b[0mtype\u001b[0m\u001b[0;34m(\u001b[0m\u001b[0me\u001b[0m\u001b[0;34m)\u001b[0m\u001b[0;34m(\u001b[0m\u001b[0mnode_def\u001b[0m\u001b[0;34m,\u001b[0m \u001b[0mop\u001b[0m\u001b[0;34m,\u001b[0m \u001b[0mmessage\u001b[0m\u001b[0;34m)\u001b[0m\u001b[0;34m\u001b[0m\u001b[0m\n\u001b[0m\u001b[1;32m   1336\u001b[0m \u001b[0;34m\u001b[0m\u001b[0m\n\u001b[1;32m   1337\u001b[0m   \u001b[0;32mdef\u001b[0m \u001b[0m_extend_graph\u001b[0m\u001b[0;34m(\u001b[0m\u001b[0mself\u001b[0m\u001b[0;34m)\u001b[0m\u001b[0;34m:\u001b[0m\u001b[0;34m\u001b[0m\u001b[0m\n",
      "\u001b[0;31mOutOfRangeError\u001b[0m: End of sequence\n\t [[Node: IteratorGetNext_338 = IteratorGetNext[output_shapes=[[?,8,10], [?]], output_types=[DT_INT64, DT_INT64], _device=\"/job:localhost/replica:0/task:0/device:CPU:0\"](OneShotIterator_148)]]\n\nCaused by op u'IteratorGetNext_338', defined at:\n  File \"/usr/lib64/python2.7/runpy.py\", line 174, in _run_module_as_main\n    \"__main__\", fname, loader, pkg_name)\n  File \"/usr/lib64/python2.7/runpy.py\", line 72, in _run_code\n    exec code in run_globals\n  File \"/home/minhb/venv/python2/lib/python2.7/site-packages/ipykernel_launcher.py\", line 16, in <module>\n    app.launch_new_instance()\n  File \"/home/minhb/venv/python2/lib/python2.7/site-packages/traitlets/config/application.py\", line 658, in launch_instance\n    app.start()\n  File \"/home/minhb/venv/python2/lib/python2.7/site-packages/ipykernel/kernelapp.py\", line 486, in start\n    self.io_loop.start()\n  File \"/home/minhb/venv/python2/lib/python2.7/site-packages/tornado/ioloop.py\", line 888, in start\n    handler_func(fd_obj, events)\n  File \"/home/minhb/venv/python2/lib/python2.7/site-packages/tornado/stack_context.py\", line 277, in null_wrapper\n    return fn(*args, **kwargs)\n  File \"/home/minhb/venv/python2/lib/python2.7/site-packages/zmq/eventloop/zmqstream.py\", line 450, in _handle_events\n    self._handle_recv()\n  File \"/home/minhb/venv/python2/lib/python2.7/site-packages/zmq/eventloop/zmqstream.py\", line 480, in _handle_recv\n    self._run_callback(callback, msg)\n  File \"/home/minhb/venv/python2/lib/python2.7/site-packages/zmq/eventloop/zmqstream.py\", line 432, in _run_callback\n    callback(*args, **kwargs)\n  File \"/home/minhb/venv/python2/lib/python2.7/site-packages/tornado/stack_context.py\", line 277, in null_wrapper\n    return fn(*args, **kwargs)\n  File \"/home/minhb/venv/python2/lib/python2.7/site-packages/ipykernel/kernelbase.py\", line 283, in dispatcher\n    return self.dispatch_shell(stream, msg)\n  File \"/home/minhb/venv/python2/lib/python2.7/site-packages/ipykernel/kernelbase.py\", line 233, in dispatch_shell\n    handler(stream, idents, msg)\n  File \"/home/minhb/venv/python2/lib/python2.7/site-packages/ipykernel/kernelbase.py\", line 399, in execute_request\n    user_expressions, allow_stdin)\n  File \"/home/minhb/venv/python2/lib/python2.7/site-packages/ipykernel/ipkernel.py\", line 208, in do_execute\n    res = shell.run_cell(code, store_history=store_history, silent=silent)\n  File \"/home/minhb/venv/python2/lib/python2.7/site-packages/ipykernel/zmqshell.py\", line 537, in run_cell\n    return super(ZMQInteractiveShell, self).run_cell(*args, **kwargs)\n  File \"/home/minhb/venv/python2/lib/python2.7/site-packages/IPython/core/interactiveshell.py\", line 2714, in run_cell\n    interactivity=interactivity, compiler=compiler, result=result)\n  File \"/home/minhb/venv/python2/lib/python2.7/site-packages/IPython/core/interactiveshell.py\", line 2818, in run_ast_nodes\n    if self.run_code(code, result):\n  File \"/home/minhb/venv/python2/lib/python2.7/site-packages/IPython/core/interactiveshell.py\", line 2878, in run_code\n    exec(code_obj, self.user_global_ns, self.user_ns)\n  File \"<ipython-input-394-ce8532e7612d>\", line 4, in <module>\n    p, q = sess.run(it.get_next())\n  File \"/home/minhb/venv/python2/lib/python2.7/site-packages/tensorflow/python/data/ops/iterator_ops.py\", line 370, in get_next\n    name=name)), self._output_types,\n  File \"/home/minhb/venv/python2/lib/python2.7/site-packages/tensorflow/python/ops/gen_dataset_ops.py\", line 1466, in iterator_get_next\n    output_shapes=output_shapes, name=name)\n  File \"/home/minhb/venv/python2/lib/python2.7/site-packages/tensorflow/python/framework/op_def_library.py\", line 787, in _apply_op_helper\n    op_def=op_def)\n  File \"/home/minhb/venv/python2/lib/python2.7/site-packages/tensorflow/python/framework/ops.py\", line 3392, in create_op\n    op_def=op_def)\n  File \"/home/minhb/venv/python2/lib/python2.7/site-packages/tensorflow/python/framework/ops.py\", line 1718, in __init__\n    self._traceback = self._graph._extract_stack()  # pylint: disable=protected-access\n\nOutOfRangeError (see above for traceback): End of sequence\n\t [[Node: IteratorGetNext_338 = IteratorGetNext[output_shapes=[[?,8,10], [?]], output_types=[DT_INT64, DT_INT64], _device=\"/job:localhost/replica:0/task:0/device:CPU:0\"](OneShotIterator_148)]]\n"
     ]
    }
   ],
   "source": [
    "it = dt.make_one_shot_iterator()\n",
    "\n",
    "for i in range(11):\n",
    "    p, q = sess.run(it.get_next())\n",
    "    print p"
   ]
  },
  {
   "cell_type": "code",
   "execution_count": 396,
   "metadata": {},
   "outputs": [
    {
     "data": {
      "text/plain": [
       "(1, 8, 10)"
      ]
     },
     "execution_count": 396,
     "metadata": {},
     "output_type": "execute_result"
    }
   ],
   "source": [
    "p.shape"
   ]
  },
  {
   "cell_type": "code",
   "execution_count": 397,
   "metadata": {},
   "outputs": [
    {
     "data": {
      "text/plain": [
       "(1,)"
      ]
     },
     "execution_count": 397,
     "metadata": {},
     "output_type": "execute_result"
    }
   ],
   "source": [
    "q.shape"
   ]
  },
  {
   "cell_type": "code",
   "execution_count": null,
   "metadata": {},
   "outputs": [],
   "source": []
  },
  {
   "cell_type": "code",
   "execution_count": 249,
   "metadata": {},
   "outputs": [
    {
     "data": {
      "text/plain": [
       "(2,)"
      ]
     },
     "execution_count": 249,
     "metadata": {},
     "output_type": "execute_result"
    }
   ],
   "source": [
    "b.shape"
   ]
  },
  {
   "cell_type": "code",
   "execution_count": 185,
   "metadata": {},
   "outputs": [
    {
     "data": {
      "text/plain": [
       "array([[[160, 161, 162, 163, 164, 165, 166, 167, 168, 169],\n",
       "        [170, 171, 172, 173, 174, 175, 176, 177, 178, 179],\n",
       "        [180, 181, 182, 183, 184, 185, 186, 187, 188, 189],\n",
       "        [190, 191, 192, 193, 194, 195, 196, 197, 198, 199],\n",
       "        [200, 201, 202, 203, 204, 205, 206, 207, 208, 209],\n",
       "        [210, 211, 212, 213, 214, 215, 216, 217, 218, 219],\n",
       "        [220, 221, 222, 223, 224, 225, 226, 227, 228, 229],\n",
       "        [230, 231, 232, 233, 234, 235, 236, 237, 238, 239]],\n",
       "\n",
       "       [[240, 241, 242, 243, 244, 245, 246, 247, 248, 249],\n",
       "        [250, 251, 252, 253, 254, 255, 256, 257, 258, 259],\n",
       "        [260, 261, 262, 263, 264, 265, 266, 267, 268, 269],\n",
       "        [270, 271, 272, 273, 274, 275, 276, 277, 278, 279],\n",
       "        [280, 281, 282, 283, 284, 285, 286, 287, 288, 289],\n",
       "        [290, 291, 292, 293, 294, 295, 296, 297, 298, 299],\n",
       "        [300, 301, 302, 303, 304, 305, 306, 307, 308, 309],\n",
       "        [310, 311, 312, 313, 314, 315, 316, 317, 318, 319]]])"
      ]
     },
     "execution_count": 185,
     "metadata": {},
     "output_type": "execute_result"
    }
   ],
   "source": [
    "a"
   ]
  },
  {
   "cell_type": "code",
   "execution_count": 114,
   "metadata": {},
   "outputs": [
    {
     "data": {
      "text/plain": [
       "array([[[-220, -221, -222, -223, -224, -225, -226, -227, -228, -229],\n",
       "        [-230, -231, -232, -233, -234, -235, -236, -237, -238, -239],\n",
       "        [-160, -161, -162, -163, -164, -165, -166, -167, -168, -169],\n",
       "        [-170, -171, -172, -173, -174, -175, -176, -177, -178, -179],\n",
       "        [-180, -181, -182, -183, -184, -185, -186, -187, -188, -189],\n",
       "        [-190, -191, -192, -193, -194, -195, -196, -197, -198, -199],\n",
       "        [-200, -201, -202, -203, -204, -205, -206, -207, -208, -209],\n",
       "        [-210, -211, -212, -213, -214, -215, -216, -217, -218, -219]],\n",
       "\n",
       "       [[-300, -301, -302, -303, -304, -305, -306, -307, -308, -309],\n",
       "        [-310, -311, -312, -313, -314, -315, -316, -317, -318, -319],\n",
       "        [-240, -241, -242, -243, -244, -245, -246, -247, -248, -249],\n",
       "        [-250, -251, -252, -253, -254, -255, -256, -257, -258, -259],\n",
       "        [-260, -261, -262, -263, -264, -265, -266, -267, -268, -269],\n",
       "        [-270, -271, -272, -273, -274, -275, -276, -277, -278, -279],\n",
       "        [-280, -281, -282, -283, -284, -285, -286, -287, -288, -289],\n",
       "        [-290, -291, -292, -293, -294, -295, -296, -297, -298, -299]]])"
      ]
     },
     "execution_count": 114,
     "metadata": {},
     "output_type": "execute_result"
    }
   ],
   "source": [
    "np.roll(a=a,axis=1,shift=2)"
   ]
  },
  {
   "cell_type": "code",
   "execution_count": 173,
   "metadata": {},
   "outputs": [],
   "source": [
    "k = tf.random_uniform([],\n",
    "    minval=0,\n",
    "    maxval=7,\n",
    "    dtype=tf.int32,\n",
    "    seed=None,\n",
    "    name=None\n",
    ")"
   ]
  },
  {
   "cell_type": "code",
   "execution_count": 174,
   "metadata": {},
   "outputs": [
    {
     "data": {
      "text/plain": [
       "1"
      ]
     },
     "execution_count": 174,
     "metadata": {},
     "output_type": "execute_result"
    }
   ],
   "source": [
    "sess.run(k)"
   ]
  },
  {
   "cell_type": "code",
   "execution_count": 233,
   "metadata": {},
   "outputs": [],
   "source": [
    "x =tf.placeholder(shape=(None, 8,10),dtype=tf.int32)\n",
    "v = tf.manip.roll(x,axis=1,shift=1)"
   ]
  },
  {
   "cell_type": "code",
   "execution_count": 234,
   "metadata": {},
   "outputs": [
    {
     "data": {
      "text/plain": [
       "array([[[470, 471, 472, 473, 474, 475, 476, 477, 478, 479],\n",
       "        [400, 401, 402, 403, 404, 405, 406, 407, 408, 409],\n",
       "        [410, 411, 412, 413, 414, 415, 416, 417, 418, 419],\n",
       "        [420, 421, 422, 423, 424, 425, 426, 427, 428, 429],\n",
       "        [430, 431, 432, 433, 434, 435, 436, 437, 438, 439],\n",
       "        [440, 441, 442, 443, 444, 445, 446, 447, 448, 449],\n",
       "        [450, 451, 452, 453, 454, 455, 456, 457, 458, 459],\n",
       "        [460, 461, 462, 463, 464, 465, 466, 467, 468, 469]],\n",
       "\n",
       "       [[390, 391, 392, 393, 394, 395, 396, 397, 398, 399],\n",
       "        [320, 321, 322, 323, 324, 325, 326, 327, 328, 329],\n",
       "        [330, 331, 332, 333, 334, 335, 336, 337, 338, 339],\n",
       "        [340, 341, 342, 343, 344, 345, 346, 347, 348, 349],\n",
       "        [350, 351, 352, 353, 354, 355, 356, 357, 358, 359],\n",
       "        [360, 361, 362, 363, 364, 365, 366, 367, 368, 369],\n",
       "        [370, 371, 372, 373, 374, 375, 376, 377, 378, 379],\n",
       "        [380, 381, 382, 383, 384, 385, 386, 387, 388, 389]]], dtype=int32)"
      ]
     },
     "execution_count": 234,
     "metadata": {},
     "output_type": "execute_result"
    }
   ],
   "source": [
    "sess.run(v, feed_dict={x:a})"
   ]
  },
  {
   "cell_type": "code",
   "execution_count": null,
   "metadata": {},
   "outputs": [],
   "source": [
    "\n",
    "k = np."
   ]
  }
 ],
 "metadata": {
  "kernelspec": {
   "display_name": "Python 2",
   "language": "python",
   "name": "python2"
  },
  "language_info": {
   "codemirror_mode": {
    "name": "ipython",
    "version": 2
   },
   "file_extension": ".py",
   "mimetype": "text/x-python",
   "name": "python",
   "nbconvert_exporter": "python",
   "pygments_lexer": "ipython2",
   "version": "2.7.15"
  }
 },
 "nbformat": 4,
 "nbformat_minor": 2
}
