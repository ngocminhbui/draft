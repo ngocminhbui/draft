{
 "cells": [
  {
   "cell_type": "code",
   "execution_count": null,
   "metadata": {
    "colab": {},
    "colab_type": "code",
    "id": "K_JhGBCMmbvD"
   },
   "outputs": [],
   "source": [
    "%matplotlib inline  \n",
    "import numpy as np \n",
    "import seaborn as sns\n",
    "import matplotlib.pylab as plt\n",
    "import matplotlib.pyplot\n",
    "#import seaborn as sn"
   ]
  },
  {
   "cell_type": "code",
   "execution_count": null,
   "metadata": {
    "colab": {},
    "colab_type": "code",
    "id": "9LywuirAmbvI"
   },
   "outputs": [],
   "source": [
    "#attention_score = np.loadtxt('./shr17/s_v1/')\n",
    "#attention_score = np.loadtxt('./shr17/s_v1/attention_eval.score.40273.0.txt')\n",
    "#class_score = np.loadtxt('./shr17/s_v1/evaluate_testset_33696.0.score.txt')\n",
    "\n",
    "#full train-val setup\n",
    "attention_score = np.loadtxt('./shr17/s_v1/attention_eval.score.40273.0.txt')\n",
    "class_score = np.loadtxt('./shr17/s_v1_fullt_train_val/model_best_testset_118420.0.score.txt')\n",
    "\n",
    "\n",
    "#attention_score = np.loadtxt('./shr17/s_v1/attention_eval.score.51603.0.txt')\n",
    "#class_score = np.loadtxt('./shr17/s_v1/evaluate_testset_33696.0.score.txt')\n",
    "\n",
    "#attention_score = np.loadtxt('./shr17/v2/attention_eval.score.21690.0.txt')\n",
    "#class_score = np.loadtxt('./shr17/v2/evaluate_testset_55510.0.score.txt')\n",
    "\n",
    "#normal ring v1\n",
    "#attention_score = np.loadtxt('./shr17/v2/attention_eval.score.21690.0.txt')\n",
    "#class_score = np.loadtxt('./shr17/v1/evaluate_testset_27118.0.score.txt')\n",
    "\n",
    "#normal ring v2\n",
    "#full-train\n",
    "#class_score = np.loadtxt('./shr17/v2_full_train/model_best_testset_165920.0.score.txt')\n",
    "#partial train\n",
    "#class_score = np.loadtxt('./shr17/v2/model_best_testset_42406.0.score.txt')\n",
    "#attention_score = np.loadtxt('./shr17/v2/attention_score_valset/attention_eval.score.18090_thesis_by_valset.0.txt')\n",
    "\n",
    "#attention_score = np.loadtxt('./shr17/v2/attention_score_trainset/eval.score.22022.0.txt')\n",
    "#lass_score = np.loadtxt('./shr17/v2/model_best_testset_42406.0.score.txt')\n",
    "\n",
    "#lstm\n",
    "#class_score = np.loadtxt('./shr17/lstm_v2/evaluate_testset_32942.0.score.txt')\n",
    "\n",
    "#attention_score = np.loadtxt('./shr17/s_v1/attention_eval.score.40273.0.txt')\n",
    "#class_score = np.loadtxt('./shr17/v2_noshareweight/evaluate_testset_21112.0.score.txt')\n",
    "\n",
    "\n",
    "#class_score = np.loadtxt('./shr17/s_v1_no_color/evaluate_testset_33696.0.score.txt')\n",
    "#attention_score = np.loadtxt('./shr17/s_v1_no_color/attention_eval.score.40273.0.txt')\n",
    "\n",
    "ground_truth_label = np.loadtxt('./test_real_label.txt')\n",
    "\n",
    "#SHR18\n",
    "#class_score = np.loadtxt('./shr18/square/evaluate_testset_103467.0.score.txt')\n",
    "#attention_score = np.loadtxt('./shr18/square/attention/attention_eval.score.30121.0.txt')\n",
    "#ground_truth_label = np.loadtxt('./shr18/test_real_label.txt')\n",
    "\n",
    "#full train-val setup\n",
    "#class_score = np.loadtxt('./shr18/square_train_val_full_fc/model_best_testset_110352.0.score.txt')\n",
    "#attention_score = np.loadtxt('./shr18/square/attention/attention_eval.score.30121.0.txt')\n",
    "#ground_truth_label = np.loadtxt('./shr18/test_real_label.txt')\n",
    "\n",
    "\n",
    "\n",
    "N_VIEW_PER_RING =9\n",
    "N_RING = 8\n",
    "\n",
    "#N_VIEW_PER_RING = 8\n",
    "#N_RING = 7\n",
    "\n",
    "N_SAMPLE = ground_truth_label.shape[0]*1.\n",
    "\n",
    "print N_SAMPLE"
   ]
  },
  {
   "cell_type": "code",
   "execution_count": null,
   "metadata": {
    "colab": {},
    "colab_type": "code",
    "id": "5GqgQSJ8mbvN"
   },
   "outputs": [],
   "source": [
    "attention_score = attention_score[:,1].reshape(-1,N_RING)\n",
    "class_score = class_score.reshape(-1,N_RING,20)\n",
    "print attention_score.shape\n",
    "print class_score.shape"
   ]
  },
  {
   "cell_type": "code",
   "execution_count": null,
   "metadata": {
    "colab": {},
    "colab_type": "code",
    "id": "ZROfq6-6mbvS"
   },
   "outputs": [],
   "source": [
    "# average all ring\n",
    "preds = np.argmax(np.mean(class_score,1),1)\n",
    "print sum(preds==ground_truth_label)/N_SAMPLE\n",
    "\n",
    "avg_preds = preds\n"
   ]
  },
  {
   "cell_type": "code",
   "execution_count": null,
   "metadata": {
    "colab": {},
    "colab_type": "code",
    "id": "8_8k5GIVmbvW"
   },
   "outputs": [],
   "source": [
    "print preds"
   ]
  },
  {
   "cell_type": "code",
   "execution_count": null,
   "metadata": {
    "colab": {},
    "colab_type": "code",
    "id": "FfPqktUxmbvb"
   },
   "outputs": [],
   "source": [
    "# choose best score ring\n",
    "preds = []\n",
    "for sample_index in range(attention_score.shape[0]):\n",
    "    object_seven_ring_class_scores = class_score[sample_index] # (7x20)\n",
    "    object_attention_score = attention_score[sample_index] # (7)\n",
    "    \n",
    "    #print object_attention_score\n",
    "    k = np.argsort(object_attention_score)[-1]\n",
    "    object_label = np.argmax(object_seven_ring_class_scores[k])\n",
    "    preds.append(object_label)\n",
    "print sum(preds==ground_truth_label)/N_SAMPLE\n",
    "preds = []\n"
   ]
  },
  {
   "cell_type": "code",
   "execution_count": null,
   "metadata": {
    "colab": {},
    "colab_type": "code",
    "id": "gJ7F84fqmbvf"
   },
   "outputs": [],
   "source": [
    "# sort from worst ring to best ring\n",
    "for ring_attention_score_id in range(N_RING):\n",
    "    preds = []\n",
    "    for sample_index in range(attention_score.shape[0]):\n",
    "        object_seven_ring_class_scores = class_score[sample_index] # (7x20)\n",
    "        object_attention_score = attention_score[sample_index] # (7)\n",
    "\n",
    "        #print object_attention_score\n",
    "        k = np.argsort(object_attention_score)[ring_attention_score_id]\n",
    "        object_label = np.argmax(object_seven_ring_class_scores[k])\n",
    "        preds.append(object_label)\n",
    "    print sum(preds==ground_truth_label)/N_SAMPLE\n",
    "preds=[]"
   ]
  },
  {
   "cell_type": "code",
   "execution_count": null,
   "metadata": {
    "colab": {},
    "colab_type": "code",
    "id": "8b9hHBRqmbvl",
    "scrolled": true
   },
   "outputs": [],
   "source": [
    "# result by ring number k\n",
    "for k in range(N_RING):\n",
    "    preds = []\n",
    "    for sample_index in range(attention_score.shape[0]):\n",
    "        object_seven_ring_class_scores = class_score[sample_index] # (7x20)\n",
    "        object_attention_score = attention_score[sample_index] # (7)\n",
    "\n",
    "        #print object_attention_score4\n",
    "        object_label = np.argmax(object_seven_ring_class_scores[k])\n",
    "        preds.append(object_label)\n",
    "    print sum(preds==ground_truth_label)/N_SAMPLE\n",
    "preds=[]\n"
   ]
  },
  {
   "cell_type": "code",
   "execution_count": null,
   "metadata": {
    "colab": {},
    "colab_type": "code",
    "id": "gvpqXAhimbvr",
    "scrolled": true
   },
   "outputs": [],
   "source": [
    "# choose top k best ring to predict\n",
    "best_preds = []\n",
    "best_acc = 0\n",
    "for k in range(1,N_RING+1):\n",
    "    preds = []\n",
    "    for sample_index in range(attention_score.shape[0]):\n",
    "        object_seven_ring_class_scores = class_score[sample_index] # (7x20)\n",
    "        object_attention_score = attention_score[sample_index] # (7)\n",
    "\n",
    "        #print object_attention_score\n",
    "        q = np.argsort(object_attention_score)[::-1][:k]\n",
    "        object_k_ring_class_scores = object_seven_ring_class_scores[q]\n",
    "        pred = np.argmax(np.mean(object_k_ring_class_scores,0))\n",
    "        preds.append(pred)\n",
    "    acc = sum(preds==ground_truth_label)/N_SAMPLE\n",
    "    if acc > best_acc:\n",
    "        best_acc = acc\n",
    "        best_preds = preds\n",
    "    print 'top',k,':',acc\n"
   ]
  },
  {
   "cell_type": "code",
   "execution_count": null,
   "metadata": {
    "colab": {},
    "colab_type": "code",
    "id": "R-XCx8Mkmbvy"
   },
   "outputs": [],
   "source": [
    "print best_preds"
   ]
  },
  {
   "cell_type": "code",
   "execution_count": null,
   "metadata": {
    "colab": {},
    "colab_type": "code",
    "id": "pNQAzGLpmbv1"
   },
   "outputs": [],
   "source": [
    "dif_predict = np.where( best_preds != avg_preds )\n",
    "print dif_predict"
   ]
  },
  {
   "cell_type": "code",
   "execution_count": null,
   "metadata": {
    "colab": {},
    "colab_type": "code",
    "id": "BPjHc4fOmbv6"
   },
   "outputs": [],
   "source": [
    "# weighted majority vote\n",
    "preds=[]\n",
    "for sample_index in range(int(N_SAMPLE)):\n",
    "    object_seven_ring_class_scores = class_score[sample_index].copy() # (7x20)\n",
    "    object_attention_score = attention_score[sample_index].copy() # (7)\n",
    "    #print object_seven_ring_class_scores.shape\n",
    "    #print object_attention_score.shape\n",
    "    for i in range(N_RING):\n",
    "        object_seven_ring_class_scores[i,:] *= object_attention_score[i]\n",
    "\n",
    "    p = np.argmax(np.mean(object_seven_ring_class_scores,0))\n",
    "\n",
    "    preds.append(p)\n",
    "    \n",
    "print sum(preds==ground_truth_label)/N_SAMPLE\n",
    "\n",
    "weighted_preds = preds"
   ]
  },
  {
   "cell_type": "code",
   "execution_count": null,
   "metadata": {
    "colab": {},
    "colab_type": "code",
    "id": "7zsRDh2ombwB"
   },
   "outputs": [],
   "source": [
    "class_score[0][0].shape"
   ]
  },
  {
   "cell_type": "code",
   "execution_count": null,
   "metadata": {
    "colab": {},
    "colab_type": "code",
    "id": "cQdHTLaxmbwG"
   },
   "outputs": [],
   "source": [
    "for i in range(8):\n",
    "    fig=plt.figure()\n",
    "    sn.barplot(range(20),class_score[19][i])"
   ]
  },
  {
   "cell_type": "code",
   "execution_count": null,
   "metadata": {
    "colab": {},
    "colab_type": "code",
    "id": "urC3DJHQmbwK"
   },
   "outputs": [],
   "source": [
    "class_names_shrec17[13]"
   ]
  },
  {
   "cell_type": "code",
   "execution_count": null,
   "metadata": {
    "colab": {},
    "colab_type": "code",
    "id": "MOzzTE4mmbwN"
   },
   "outputs": [],
   "source": [
    "print weighted_preds"
   ]
  },
  {
   "cell_type": "code",
   "execution_count": null,
   "metadata": {
    "colab": {},
    "colab_type": "code",
    "id": "WV2RRyKCmbwR"
   },
   "outputs": [],
   "source": [
    "np.where(avg_preds != weighted_preds)"
   ]
  },
  {
   "cell_type": "code",
   "execution_count": null,
   "metadata": {
    "colab": {},
    "colab_type": "code",
    "id": "nOObOy51mbwV"
   },
   "outputs": [],
   "source": [
    "test_filename[11]"
   ]
  },
  {
   "cell_type": "code",
   "execution_count": null,
   "metadata": {
    "colab": {},
    "colab_type": "code",
    "id": "noOsRsz8mbwY"
   },
   "outputs": [],
   "source": [
    "attention_score[11]"
   ]
  },
  {
   "cell_type": "code",
   "execution_count": null,
   "metadata": {
    "colab": {},
    "colab_type": "code",
    "id": "qPiNWbnnmbwc"
   },
   "outputs": [],
   "source": []
  },
  {
   "cell_type": "code",
   "execution_count": null,
   "metadata": {
    "colab": {},
    "colab_type": "code",
    "id": "yBcLyAHEmbwf"
   },
   "outputs": [],
   "source": [
    "q = np.zeros((0,N_RING))\n",
    "print q.shape\n",
    "for i in range(427):\n",
    "    grd_idx = ground_truth_label[i]\n",
    "    p = class_score[i,:,int(grd_idx)]\n",
    "    p = p.reshape(1,-1)\n",
    "    q = np.vstack((q,p))\n",
    "print q.shape\n"
   ]
  },
  {
   "cell_type": "code",
   "execution_count": null,
   "metadata": {
    "colab": {},
    "colab_type": "code",
    "id": "EejDfEoKmbwi"
   },
   "outputs": [],
   "source": [
    "for i in range(428//8+1):\n",
    "    fig, ax =plt.subplots(1,2)\n",
    "    sns.heatmap(q[i*8:i*8+8,:], linewidth=0.5, ax=ax[0], yticklabels=test_filename[i*8:i*8+8])\n",
    "    sns.heatmap(attention_score[i*8:(i+1)*8,:], linewidth=0.5, ax=ax[1], yticklabels=[''])\n",
    "    plt.show()"
   ]
  },
  {
   "cell_type": "code",
   "execution_count": null,
   "metadata": {
    "colab": {},
    "colab_type": "code",
    "id": "7dJ3esxvmbwm"
   },
   "outputs": [],
   "source": [
    "q.shape"
   ]
  },
  {
   "cell_type": "code",
   "execution_count": null,
   "metadata": {
    "colab": {},
    "colab_type": "code",
    "id": "zpE_izH1mbwt"
   },
   "outputs": [],
   "source": [
    "# vote by rings that pass the threshold of k attention score\n",
    "best_preds = 0\n",
    "for k in np.arange(0,1,0.1):\n",
    "    preds = []\n",
    "    for sample_index in range(attention_score.shape[0]):\n",
    "        #print sample_index\n",
    "        \n",
    "        \n",
    "        object_seven_ring_class_scores = class_score[sample_index] # (7x20)\n",
    "        object_attention_score = attention_score[sample_index] # (7)\n",
    "\n",
    "        t = object_seven_ring_class_scores[object_attention_score>=k]\n",
    "        #print t.shape\n",
    "        if t.shape[0]==0:\n",
    "            preds.append(0)\n",
    "            continue\n",
    "\n",
    "        p = np.argmax(np.mean(t,0))\n",
    "        preds.append(p)\n",
    "        \n",
    "    #print 'pred length:',len(preds)\n",
    "    print 'k=',k,'acc=', sum(preds==ground_truth_label)/427.0\n"
   ]
  },
  {
   "cell_type": "code",
   "execution_count": null,
   "metadata": {
    "colab": {},
    "colab_type": "code",
    "id": "UL5436cumbww"
   },
   "outputs": [],
   "source": [
    "a = np.array([1,2,3,4,5,6])\n",
    "b = np.array([0,0,0,3,3,3])\n",
    "a[b>2]"
   ]
  },
  {
   "cell_type": "code",
   "execution_count": null,
   "metadata": {
    "colab": {},
    "colab_type": "code",
    "id": "yasp20Fsmbw3"
   },
   "outputs": [],
   "source": [
    "attention_score[0]"
   ]
  },
  {
   "cell_type": "code",
   "execution_count": null,
   "metadata": {
    "colab": {},
    "colab_type": "code",
    "id": "wQHZ7-Pwmbw8"
   },
   "outputs": [],
   "source": [
    "a = np.array([1,2])\n",
    "b = a\n",
    "b[0] = 5"
   ]
  },
  {
   "cell_type": "code",
   "execution_count": null,
   "metadata": {
    "colab": {},
    "colab_type": "code",
    "id": "YWMV99ismbxB"
   },
   "outputs": [],
   "source": [
    "a"
   ]
  },
  {
   "cell_type": "code",
   "execution_count": null,
   "metadata": {
    "colab": {},
    "colab_type": "code",
    "id": "8W-idhl2mbxE"
   },
   "outputs": [],
   "source": []
  },
  {
   "cell_type": "code",
   "execution_count": null,
   "metadata": {
    "colab": {},
    "colab_type": "code",
    "id": "B9FIZqtimbxI"
   },
   "outputs": [],
   "source": []
  },
  {
   "cell_type": "code",
   "execution_count": null,
   "metadata": {
    "colab": {},
    "colab_type": "code",
    "id": "WOwfHYikmbxN"
   },
   "outputs": [],
   "source": []
  },
  {
   "cell_type": "code",
   "execution_count": null,
   "metadata": {
    "colab": {},
    "colab_type": "code",
    "id": "sXLcrhmsmbxQ"
   },
   "outputs": [],
   "source": [
    "object_attention_score[[object_attention_score<0.5]]"
   ]
  },
  {
   "cell_type": "markdown",
   "metadata": {
    "colab_type": "text",
    "id": "Ggh4Kk-9mbxZ"
   },
   "source": [
    "# Visualize"
   ]
  },
  {
   "cell_type": "code",
   "execution_count": null,
   "metadata": {
    "colab": {},
    "colab_type": "code",
    "id": "BP6xBcUEmbxZ"
   },
   "outputs": [],
   "source": [
    "import seaborn as sns\n",
    "import matplotlib.pylab as plt\n",
    "import os\n",
    "from matplotlib import figure"
   ]
  },
  {
   "cell_type": "code",
   "execution_count": null,
   "metadata": {
    "colab": {},
    "colab_type": "code",
    "id": "UW1gA1pLmbxf"
   },
   "outputs": [],
   "source": [
    "test_filename = [u.split()[0] for u in open('./shr17/test2id.txt')]"
   ]
  },
  {
   "cell_type": "code",
   "execution_count": null,
   "metadata": {
    "colab": {},
    "colab_type": "code",
    "id": "IKtSf9frmbxi"
   },
   "outputs": [],
   "source": [
    "list_csv = [u.split() for u in open('./list.csv').readlines()[1:]]\n"
   ]
  },
  {
   "cell_type": "code",
   "execution_count": null,
   "metadata": {
    "colab": {},
    "colab_type": "code",
    "id": "RU8ukM9Nmbxo"
   },
   "outputs": [],
   "source": [
    "class_names_shrec17 = 'Bin, Box, Printer, Cup ,Light, Sofa ,Keyboard, Storage, Bed, Pillow, Machine, Bag, Book, Table, Oven, Desk ,Bookshelf,PCcase,Chair,Display'.split(',')\n",
    "class_names_shrec18 ='chair\tlight\tpc\ttable\tcup\tstorage\tdesk\tbag\tdisplay\tbookshelf\tbin\tbook\toven\tbed\tbox\tpillow\tmachine\tprinter\tsofa\tkeyboard'.split('\\t')\n",
    "class_names_shrec17 = [x.strip() for x in class_names_shrec17]\n",
    "class_names_shrec18 = [x.strip() for x in class_names_shrec18]"
   ]
  },
  {
   "cell_type": "code",
   "execution_count": null,
   "metadata": {
    "colab": {},
    "colab_type": "code",
    "id": "x7XbgkuFmbxq"
   },
   "outputs": [],
   "source": [
    "import os\n",
    "\n",
    "CMAP = plt.get_cmap('Reds')\n",
    "def plot_square_ring(ring_number, obj_img_path, att_score, class_scores, real_label, class_names):\n",
    "    LIST_RING = [\n",
    "        [0, 1, 2, 8, 9, 10, 16, 17, 18],\n",
    "        [1, 2, 3, 9, 10, 11, 17, 18, 19],\n",
    "        [2, 3, 4, 10, 11, 12, 18, 19, 20],\n",
    "        [3, 4, 5, 11, 12, 13, 19, 20, 21],\n",
    "        [4, 5, 6, 12, 13, 14, 20, 21, 22],\n",
    "        [5, 6, 7, 13, 14, 15, 21, 22, 23],\n",
    "        [6, 7, 0, 14, 15, 8,  22, 23, 16],\n",
    "        [7, 0, 1, 15, 8,  9,  23, 16, 17 ]\n",
    "    ]\n",
    "\n",
    "    \n",
    "    r = LIST_RING[ring_number]\n",
    "    img_paths =[os.path.join(obj_img_path, '{}.png'.format(rn)) for rn in r  ]\n",
    "    #print obj_img_path\n",
    "    w=8\n",
    "    h=8\n",
    "    fig=plt.figure(figsize=(w, h), facecolor=CMAP(att_score))\n",
    "    columns = 3\n",
    "    rows = 3\n",
    "    for i in range(1, columns*rows +1):\n",
    "        img = plt.imread(img_paths[i-1])\n",
    "        fig.add_subplot(rows, columns, i)\n",
    "        plt.axis('off')\n",
    "        plt.imshow(img)\n",
    "    \n",
    "    \n",
    "    save_img_paths =  obj_img_path.replace('shrec17_render','shrec17_render_square_att')\n",
    "    if not os.path.exists(save_img_paths):\n",
    "        os.makedirs(save_img_paths)\n",
    "    \n",
    "    \n",
    "    #print class_names\n",
    "    true_label = class_names[int(real_label)]\n",
    "    \n",
    "    #print class_scores.shape\n",
    "    predict_label = class_names[np.argmax(class_scores)]\n",
    "    \n",
    "    title = 'a:{},p:{}'.format(true_label,predict_label)\n",
    "    fig.suptitle(title, fontsize=20)\n",
    "\n",
    "    #print save_img_paths\n",
    "    plt.savefig(os.path.join(save_img_paths, '{}.png'.format(ring_number)), facecolor=fig.get_facecolor())\n",
    "\n",
    "    #plt.show()\n",
    "    plt.clf()\n",
    "    plt.cla()\n",
    "    plt.close('all')\n",
    "    \n",
    "    \n",
    "    return img_paths"
   ]
  },
  {
   "cell_type": "code",
   "execution_count": null,
   "metadata": {
    "colab": {},
    "colab_type": "code",
    "id": "Q3VcHAP_mbxt"
   },
   "outputs": [],
   "source": [
    "import gc      \n",
    "\n",
    "gc.collect()"
   ]
  },
  {
   "cell_type": "code",
   "execution_count": null,
   "metadata": {
    "colab": {},
    "colab_type": "code",
    "id": "ikG3yFEXmbxw",
    "scrolled": false
   },
   "outputs": [],
   "source": [
    "for obj_idx in range(401,ground_truth_label.shape[0]):\n",
    "    print 'processing number ', obj_idx\n",
    "    for k in range(8):\n",
    "        t = plot_square_ring(k, '/home/minhb/Desktop/data/shrec17_render/{}.ply/'\n",
    "                             .format(test_filename[obj_idx]), attention_score[obj_idx][k], class_score[obj_idx][k]\n",
    "                            , ground_truth_label[obj_idx],\n",
    "                             class_names_shrec17)\n",
    "        \n"
   ]
  },
  {
   "cell_type": "code",
   "execution_count": null,
   "metadata": {
    "colab": {},
    "colab_type": "code",
    "id": "hw0vSXsKmbx0"
   },
   "outputs": [],
   "source": [
    "attention_score[202]"
   ]
  },
  {
   "cell_type": "code",
   "execution_count": null,
   "metadata": {
    "colab": {},
    "colab_type": "code",
    "id": "jNL1zZmJmbx6"
   },
   "outputs": [],
   "source": [
    "# sort from worst ring to best ring\n",
    "for ring_attention_score_id in range(N_RING):\n",
    "    preds = []\n",
    "    for sample_index in range(attention_score.shape[0]):\n",
    "        object_seven_ring_class_scores = class_score[sample_index] # (7x20)\n",
    "        object_attention_score = attention_score[sample_index] # (7)\n",
    "\n",
    "        #print object_attention_score\n",
    "        k = np.argsort(object_attention_score)[ring_attention_score_id]\n",
    "        object_label = np.argmax(object_seven_ring_class_scores[k])\n",
    "        preds.append(object_label)\n",
    "    print sum(preds==ground_truth_label)/427.0"
   ]
  },
  {
   "cell_type": "code",
   "execution_count": null,
   "metadata": {
    "colab": {},
    "colab_type": "code",
    "id": "Jx6BjD7Lmbx-"
   },
   "outputs": [],
   "source": [
    "import seaborn as sn"
   ]
  },
  {
   "cell_type": "code",
   "execution_count": null,
   "metadata": {
    "colab": {},
    "colab_type": "code",
    "id": "FiVPfLuombyA"
   },
   "outputs": [],
   "source": [
    "shrec17_class_labels = []"
   ]
  },
  {
   "cell_type": "code",
   "execution_count": null,
   "metadata": {
    "colab": {},
    "colab_type": "code",
    "id": "v_JvpHWvmbyD"
   },
   "outputs": [],
   "source": [
    "Winter = plt.get_cmap('winter')"
   ]
  },
  {
   "cell_type": "code",
   "execution_count": null,
   "metadata": {
    "colab": {},
    "colab_type": "code",
    "id": "6DICsTD1mbyG"
   },
   "outputs": [],
   "source": [
    "Winter(0)"
   ]
  },
  {
   "cell_type": "code",
   "execution_count": null,
   "metadata": {
    "colab": {},
    "colab_type": "code",
    "id": "OgcDn_TrmbyL"
   },
   "outputs": [],
   "source": [
    "import numpy as np\n",
    "import matplotlib.pyplot as plt\n",
    "\n",
    "from sklearn import svm, datasets\n",
    "from sklearn.model_selection import train_test_split\n",
    "from sklearn.metrics import confusion_matrix\n",
    "\n",
    "import itertools\n",
    "\n",
    "def plot_confusion_matrix(cm, classes,\n",
    "                          normalize=False,\n",
    "                          title='Confusion matrix',\n",
    "                          cmap=plt.cm.Blues):\n",
    "    \"\"\"\n",
    "    This function prints and plots the confusion matrix.\n",
    "    Normalization can be applied by setting `normalize=True`.\n",
    "    \"\"\"\n",
    "    if normalize:\n",
    "        cm = cm.astype('float') / cm.sum(axis=1)[:, np.newaxis]\n",
    "        print(\"Normalized confusion matrix\")\n",
    "    else:\n",
    "        print('Confusion matrix, without normalization')\n",
    "\n",
    "    print(cm)\n",
    "\n",
    "    plt.imshow(cm, interpolation='nearest', cmap=cmap)\n",
    "    plt.title(title)\n",
    "    plt.colorbar()\n",
    "    tick_marks = np.arange(len(classes))\n",
    "    plt.xticks(tick_marks, classes, rotation=45)\n",
    "    plt.yticks(tick_marks, classes)\n",
    "\n",
    "    fmt = '.2f' if normalize else 'd'\n",
    "    thresh = cm.max() / 2.\n",
    "    for i, j in itertools.product(range(cm.shape[0]), range(cm.shape[1])):\n",
    "        plt.text(j, i, format(cm[i, j], fmt),\n",
    "                 horizontalalignment=\"center\",\n",
    "                 color=\"white\" if cm[i, j] > thresh else \"black\")\n",
    "\n",
    "    \n",
    "    plt.ylabel('True label')\n",
    "    plt.xlabel('Predicted label')"
   ]
  },
  {
   "cell_type": "code",
   "execution_count": null,
   "metadata": {
    "colab": {},
    "colab_type": "code",
    "id": "OWyX58GvmbyO"
   },
   "outputs": [],
   "source": [
    "cfs_matrix = confusion_matrix(y_pred=weighted_preds, y_true=ground_truth_label)\n",
    "#cfs_matrix = confusion_matrix(y_pred=best_preds, y_true=ground_truth_label)"
   ]
  },
  {
   "cell_type": "code",
   "execution_count": null,
   "metadata": {
    "colab": {},
    "colab_type": "code",
    "id": "r0ONsr3wmbyQ"
   },
   "outputs": [],
   "source": []
  },
  {
   "cell_type": "code",
   "execution_count": null,
   "metadata": {
    "colab": {},
    "colab_type": "code",
    "id": "dkPJZ6GCmbyT"
   },
   "outputs": [],
   "source": [
    "class_names_shrec17"
   ]
  },
  {
   "cell_type": "code",
   "execution_count": null,
   "metadata": {
    "colab": {},
    "colab_type": "code",
    "id": "pq2bEsizmbyX"
   },
   "outputs": [],
   "source": [
    "import pandas as pd"
   ]
  },
  {
   "cell_type": "code",
   "execution_count": null,
   "metadata": {
    "colab": {},
    "colab_type": "code",
    "id": "a3x17gkXmbyZ"
   },
   "outputs": [],
   "source": [
    "cm = cfs_matrix\n",
    "cm = cm.astype('float') / cm.sum(axis=1)[:, np.newaxis]\n",
    "cfs_pd = pd.DataFrame(data=cm,columns=class_names_shrec18, index=class_names_shrec18)"
   ]
  },
  {
   "cell_type": "code",
   "execution_count": null,
   "metadata": {
    "colab": {},
    "colab_type": "code",
    "id": "Yb4YLFGKmbyd"
   },
   "outputs": [],
   "source": [
    "cfs_pd"
   ]
  },
  {
   "cell_type": "code",
   "execution_count": null,
   "metadata": {
    "colab": {},
    "colab_type": "code",
    "id": "BWydpwlcmbyg"
   },
   "outputs": [],
   "source": [
    "np.diag(cfs_pd)"
   ]
  },
  {
   "cell_type": "code",
   "execution_count": null,
   "metadata": {
    "colab": {},
    "colab_type": "code",
    "id": "4KEpzSTBmbyk"
   },
   "outputs": [],
   "source": [
    "plt.figure(figsize=(10,8))\n",
    "sn.heatmap(cfs_pd,cmap=\"YlGnBu\")"
   ]
  },
  {
   "cell_type": "code",
   "execution_count": null,
   "metadata": {
    "colab": {},
    "colab_type": "code",
    "id": "RW0nSq7ombyl"
   },
   "outputs": [],
   "source": []
  },
  {
   "cell_type": "code",
   "execution_count": null,
   "metadata": {
    "colab": {},
    "colab_type": "code",
    "id": "iSMXH_jvmbyn"
   },
   "outputs": [],
   "source": []
  }
 ],
 "metadata": {
  "colab": {
   "collapsed_sections": [
    "Ggh4Kk-9mbxZ"
   ],
   "name": "combine_attention_and_class_score.ipynb",
   "provenance": [],
   "version": "0.3.2"
  },
  "kernelspec": {
   "display_name": "Python 2",
   "language": "python",
   "name": "python2"
  },
  "language_info": {
   "codemirror_mode": {
    "name": "ipython",
    "version": 2
   },
   "file_extension": ".py",
   "mimetype": "text/x-python",
   "name": "python",
   "nbconvert_exporter": "python",
   "pygments_lexer": "ipython2",
   "version": "2.7.12"
  }
 },
 "nbformat": 4,
 "nbformat_minor": 2
}
